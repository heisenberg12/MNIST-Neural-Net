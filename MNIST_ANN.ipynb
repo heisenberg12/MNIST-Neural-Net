{
  "nbformat": 4,
  "nbformat_minor": 0,
  "metadata": {
    "colab": {
      "name": "MNIST_ANN.ipynb",
      "provenance": [],
      "collapsed_sections": [],
      "toc_visible": true,
      "mount_file_id": "14vnri9QfzaS735f9s4jYyRwSd-p0IiLu",
      "authorship_tag": "ABX9TyNkD/+36kzuW5g849XPthf0",
      "include_colab_link": true
    },
    "kernelspec": {
      "name": "python3",
      "display_name": "Python 3"
    }
  },
  "cells": [
    {
      "cell_type": "markdown",
      "metadata": {
        "id": "view-in-github",
        "colab_type": "text"
      },
      "source": [
        "<a href=\"https://colab.research.google.com/github/heisenberg12/MNIST-Neural-Net/blob/master/MNIST_ANN.ipynb\" target=\"_parent\"><img src=\"https://colab.research.google.com/assets/colab-badge.svg\" alt=\"Open In Colab\"/></a>"
      ]
    },
    {
      "cell_type": "markdown",
      "metadata": {
        "id": "j6MjLvCBV2e8",
        "colab_type": "text"
      },
      "source": [
        "#Modules"
      ]
    },
    {
      "cell_type": "code",
      "metadata": {
        "id": "5yraMehwVsiz",
        "colab_type": "code",
        "colab": {}
      },
      "source": [
        "import numpy as np\n",
        "import pandas as pd\n",
        "import math as e\n",
        "import matplotlib.pyplot as plt\n",
        "import random\n",
        "from google.colab import files\n",
        "import cv2"
      ],
      "execution_count": 0,
      "outputs": []
    },
    {
      "cell_type": "markdown",
      "metadata": {
        "id": "wJstg1gAiOcm",
        "colab_type": "text"
      },
      "source": [
        "#Datasets"
      ]
    },
    {
      "cell_type": "code",
      "metadata": {
        "id": "ZVRpGqfLiQZE",
        "colab_type": "code",
        "colab": {}
      },
      "source": [
        "data = pd.read_csv(\"/content/drive/My Drive/Datasets/MNIST Dataset/mnist_dataset.csv\")\n",
        "mnist_data = data"
      ],
      "execution_count": 0,
      "outputs": []
    },
    {
      "cell_type": "markdown",
      "metadata": {
        "id": "hK5NEYDbzEz7",
        "colab_type": "text"
      },
      "source": [
        "#Activation Class"
      ]
    },
    {
      "cell_type": "code",
      "metadata": {
        "id": "YZQTB4HQzJCE",
        "colab_type": "code",
        "colab": {}
      },
      "source": [
        "class Activation(object):\n",
        "\n",
        "  def sigmoid_activation(self,Z):\n",
        "    sigmoid = np.zeros(Z.shape , dtype=np.float128)\n",
        "    sigmoid = [self.sigmoid_function(x) for x in Z]\n",
        "    return sigmoid\n",
        "\n",
        "  def sigmoid_function(self , x):\n",
        "    if x >= 0:\n",
        "      z = np.exp(-x)\n",
        "      return 1 / (1 + z)\n",
        "    else:\n",
        "      z = np.exp(x)\n",
        "      return z / (1 + z)\n",
        "\n",
        "  def derivative_sigmoid(self , a):\n",
        "    return a*(1-a)\n",
        "\n",
        "  def RELU_activation(self , Z):\n",
        "    rectifier = np.zeros(Z.shape, dtype=np.float128)\n",
        "    for x,y in np.ndindex(Z.shape):\n",
        "      rectifier[i][j] = Z[i][j] if Z[x][y] > 0 else n*z[i][j]\n",
        "    return rectifier\n",
        "\n",
        "  def derivative_RELU(self , a):\n",
        "    derivative_rectifier = np.zeros(a.shape , dtype=np.float128)\n",
        "    for x,y in np.ndindex(a.shape):\n",
        "      derivative_rectifier[i][j] = 1 if a[x][y] > 0 else n\n",
        "    return derivative_rectifier\n",
        "\n",
        "  def softmax(self , Z):\n",
        "    P = np.exp(Z)\n",
        "    Sum = np.sum(P)\n",
        "    return np.divide(P , Sum)\n",
        "\n",
        "  def derivative_softmax(self , P):\n",
        "    return P*(1-P)\n"
      ],
      "execution_count": 0,
      "outputs": []
    },
    {
      "cell_type": "markdown",
      "metadata": {
        "id": "I6heYloM_wuf",
        "colab_type": "text"
      },
      "source": [
        "#Cost Function"
      ]
    },
    {
      "cell_type": "code",
      "metadata": {
        "id": "rPOikKNv_1u7",
        "colab_type": "code",
        "colab": {}
      },
      "source": [
        "class Cost(object):\n",
        "  \n",
        "  def Cross_Entropy(self , a , y_index):\n",
        "    y_index = int(y_index)\n",
        "    return -np.log(a[y_index - 1])\n",
        "\n",
        "  def derivative_Cross_Entropy(self , P , y_index):\n",
        "    y_index = int(y_index)\n",
        "    P[y_index - 1] = P[y_index - 1] - 1\n",
        "    return P\n",
        "\n"
      ],
      "execution_count": 0,
      "outputs": []
    },
    {
      "cell_type": "markdown",
      "metadata": {
        "id": "XPwoV_yeV6xL",
        "colab_type": "text"
      },
      "source": [
        "#CNN Model"
      ]
    },
    {
      "cell_type": "markdown",
      "metadata": {
        "id": "gJA560r5XGgb",
        "colab_type": "text"
      },
      "source": [
        "Abbrievations\n",
        "1. ils : input layer size</br>\n",
        "2. hls : hidden layer size</br>\n",
        "3. hl : hidden layers</br>\n",
        "4. ols : output layer size</br>\n",
        "5. lr : learning rate</br>\n",
        "6. lc : lambda constant</br>\n",
        "7. k  : folds"
      ]
    },
    {
      "cell_type": "code",
      "metadata": {
        "id": "R2nhTzysV-oh",
        "colab_type": "code",
        "colab": {}
      },
      "source": [
        " class CNN(object):\n",
        "\n",
        "#-------------------------------------------------------------------------INITIALIZATION-----------------------------------------------------------------------------------------------------------\n",
        "  def __init__(self,ils,hls,hl,ols,data,dir,k,lr,lc,epochs):\n",
        "      self.ils = ils\n",
        "      self.hls = hls\n",
        "      self.hl = hl\n",
        "      self.k = k\n",
        "      self.ols = ols\n",
        "      self.data = data\n",
        "      self.dir = dir\n",
        "      self.lr = lr\n",
        "      self.lc = lc\n",
        "      self.epochs = epochs\n",
        "      self.create_weights()\n",
        "      self.initialize()\n",
        "      self.data = data\n",
        "\n",
        "  def initialize(self):\n",
        "    self.act = Activation()\n",
        "    self.cost = Cost()\n",
        "    \n",
        "\n",
        "  def create_weights(self):\n",
        "    He = e.sqrt(6/self.ils)\n",
        "    h1_weights=np.zeros((self.hls,self.ils) , dtype=np.float128)\n",
        "    h_weights=np.zeros((self.hl-1,self.hls,self.hls) , dtype=np.float128)\n",
        "    o_weights=np.zeros((self.ols,self.hls) , dtype=np.float128)\n",
        "    h_bias=np.zeros((self.hl , self.hls) , dtype=np.float128) \n",
        "    o_bias=np.zeros(self.ols  , dtype=np.float128)\n",
        "\n",
        "    h1_weights += np.random.randn(*h1_weights.shape)*He\n",
        "    h_weights += np.random.randn(*h_weights.shape)*He\n",
        "    o_weights += np.random.randn(*o_weights.shape)*He\n",
        "    h_bias += np.random.randn(*h_bias.shape)*He\n",
        "    o_bias += np.random.randn(*o_bias.shape)*He\n",
        "\n",
        "    self.h1_weights = h1_weights\n",
        "    self.h_weights = h_weights\n",
        "    self.o_weights = o_weights\n",
        "    self.h_bias = h_bias\n",
        "    self.o_bias = o_bias\n",
        "#------------------------------------------WEIGHTS AND BIASES PICKLING------------------------------------------------------------------------------\n",
        "  def save(self , weights_h1 , weights_h , weights_o,bias_h ,bias_o ,name):\n",
        "    loc = '/content/drive/My Drive/CNN/Weights/' + name + \".npz\"\n",
        "    np.savez(loc , x=weights_h1 ,y=weights_h , z=weights_o , a=bias_h , b=bias_o);\n",
        "\n",
        "  def load(self , Weights):\n",
        "    loc = '/content/drive/My Drive/CNN/Weights/' + Weights + \".npz\"\n",
        "    with np.load(loc) as data:\n",
        "      self.weights_h1 = data['x']\n",
        "      self.weights_h  = data['y']\n",
        "      self.weights_o = data['z']\n",
        "      self.bias_h = data['a']\n",
        "      self.bias_o = data['b']\n",
        "\n",
        "\n",
        "  def printWB(self):\n",
        "    print(\"_____________________________________________________________________\")\n",
        "    print(\"                    Hidden Layer 1\")\n",
        "    print(\"_____________________________________________________________________\")\n",
        "    print(\"Biases: \",self.h_bias[0])\n",
        "    for i in range(self.hls):\n",
        "      print(\"-------------------------------------------------------------------\")\n",
        "      print(\"Neuron \",i+1,\" Weights: \",self.h1_weights[i] )\n",
        "\n",
        "    for i in range(self.hl - 1):\n",
        "       print(\"__________________________________________________________________\")\n",
        "       print(\"                    Hidden Layer \",i + 2)\n",
        "       print(\"__________________________________________________________________\")\n",
        "       print(\"Biases: \",self.h_bias[i+1])\n",
        "       for j in range(self.hls):\n",
        "        print(\"--------------------------------------------------------\")\n",
        "        print(\"Neuron \",j+1,\" Weights:\\n \",self.h_weights[i][j] )\n",
        "\n",
        "    print(\"_____________________________________________________________________\")\n",
        "    print(\"                    Output Layer\")\n",
        "    print(\"_____________________________________________________________________\")\n",
        "    print(\"Biases: \",self.o_bias)\n",
        "    for i in range(self.ols):\n",
        "      print(\"-------------------------------------------------------------------\")\n",
        "      print(\"Neuron \",i+1,\" Weights: \\n\",self.o_weights[i] )\n",
        "\n",
        "  #--------------------------------------------------------------------------PLOT---------------------------------------------------------------\n",
        "  def plot(self , cost , accuracy):\n",
        "    X = np.arange(self.epochs)\n",
        "    plt.plot(X , accuracy , label=\"ACCURACY VS EPOCHS\")\n",
        "    plt.xlabel('EPOCHS--->')\n",
        "    plt.ylabel('ACCURACY--->')\n",
        "    plt.title('ACCURACY VS EPOCHS')\n",
        "    plt.show()\n",
        "    plt.plot(X , cost , label=\"COST VS EPOCHS\")\n",
        "    plt.xlabel('EPOCHS--->')\n",
        "    plt.ylabel('COST--->')\n",
        "    plt.title('COST VS EPOCHS')\n",
        "    plt.show()\n",
        "\n",
        "\n",
        "  #------------------------------------------------------------------K FOLD CROSS VALIDATION ----------------------------------------------------\n",
        "  def split(self,i,p):\n",
        "    df=self.data\n",
        "    rows,cols=df.shape\n",
        "    k=int(rows/p)\n",
        "    l=rows-k\n",
        "    y=k*i\n",
        "    x=y+k\n",
        "    test=df[y:x]\n",
        "    test=test.values\n",
        "    test_x=test[:,0:cols-1]\n",
        "    test_y=test[:,cols-1]\n",
        "    train=df.drop(df.index[y:x])\n",
        "    train=train.values\n",
        "    train_x=train[:,0:cols-1]\n",
        "    train_y=train[:,cols-1]\n",
        "\n",
        "    return train_x,train_y,test_x,test_y\n",
        "\n",
        "\n",
        "    #-------------------------------------------------------------------FEEDFORWARD(TRAINING)--------------------------------------------------------\n",
        "  def feedforward(self,alpha):\n",
        "    inp = alpha\n",
        "    hidden_activations = np.zeros((self.hl,self.hls), dtype=np.float128)\n",
        "    output_activations = np.zeros(self.ols , dtype=np.float128)\n",
        "    alpha = np.reshape(alpha,(self.ils,1))\n",
        "    alpha = np.matmul(self.h1_weights , alpha).T\n",
        "    alpha = np.add(alpha , self.h_bias[0])\n",
        "    alpha = self.act.sigmoid_activation(alpha.flatten())\n",
        "    hidden_activations[0] = alpha\n",
        "\n",
        "    for layers in range(self.hl - 1):\n",
        "      alpha = np.reshape(alpha,(self.hls,1))\n",
        "      alpha = np.matmul(self.h_weights[layers] , alpha).T\n",
        "      alpha = np.add(alpha , self.h_bias[layers + 1])\n",
        "      alpha = self.act.sigmoid_activation(alpha.flatten())\n",
        "      hidden_activations[layers + 1] = alpha\n",
        "\n",
        "    alpha = np.reshape(alpha,(self.hls,1))\n",
        "    output_activations = np.matmul(self.o_weights,alpha).T.flatten()\n",
        "    output_activations = np.add(output_activations,self.o_bias)\n",
        "    output_activations = self.act.softmax(output_activations.flatten())\n",
        "\n",
        "    return inp , hidden_activations , output_activations\n",
        "\n",
        "\n",
        "     #------------------------------------------------------------------FEEDFORWARD(TESTING)-------------------------------------------------------\n",
        "  def FEEDFORWARD(self,alpha):\n",
        "    inp = alpha\n",
        "    hidden_activations = np.zeros((self.hl,self.hls), dtype=np.float128)\n",
        "    output_activations = np.zeros(self.ols, dtype=np.float128)\n",
        "    alpha = np.reshape(alpha,(self.ils,1))\n",
        "    alpha = np.matmul(self.h1_weights , alpha).T\n",
        "    alpha = np.add(alpha , self.h_bias[0])\n",
        "    alpha = self.act.sigmoid_activation(alpha.flatten())\n",
        "    hidden_activations[0] = alpha\n",
        "\n",
        "    for layers in range(self.hl - 1):\n",
        "      alpha = np.reshape(alpha,(self.hls,1))\n",
        "      alpha = np.matmul(self.h_weights[layers] , alpha).T\n",
        "      alpha = np.add(alpha , self.h_bias[layers + 1])\n",
        "      alpha = self.act.sigmoid_activation(alpha.flatten())\n",
        "      hidden_activations[layers + 1] = alpha\n",
        "\n",
        "    alpha = np.reshape(alpha,(self.hls,1))\n",
        "    output_activations = np.matmul(self.o_weights,alpha).T.flatten()\n",
        "    output_activations = np.add(output_activations,self.o_bias)\n",
        "    output_activations = self.act.softmax(output_activations.flatten())\n",
        "\n",
        "    return output_activations.flatten()\n",
        "\n",
        "#------------------------------------------------------------------------BACKPROPOGATION-------------------------------------------------------------\n",
        "  def backpropogation(self,inp,y):\n",
        "    del_hbias = np.zeros(self.h_bias.shape, dtype=np.float128)\n",
        "    del_obias = np.zeros(self.o_bias.shape, dtype=np.float128)\n",
        "    del_hweights = np.zeros(self.h_weights.shape, dtype=np.float128)\n",
        "    del_h1weights = np.zeros(self.h1_weights.shape, dtype=np.float128)\n",
        "    del_oweights = np.zeros(self.o_weights.shape, dtype=np.float128)\n",
        "\n",
        "    inp , hidden_activations , output_activations = self.feedforward(inp)\n",
        "\n",
        "    del_a_z = self.act.derivative_softmax(output_activations)\n",
        "    del_z_w = hidden_activations[-1]\n",
        "    del_c_a = self.cost.derivative_Cross_Entropy(output_activations , y)\n",
        "    del_obias = del_c_a*del_a_z\n",
        "    del_oweights = np.matmul(np.reshape(del_obias,(self.ols , 1)) ,np.reshape(del_z_w,(1 , self.hls)))\n",
        "    del_cost = np.matmul(del_obias , self.o_weights)\n",
        "\n",
        "    \n",
        "    for Layer in reversed(range(1 , self.hl)):\n",
        "      del_a_z = self.act.derivative_sigmoid(hidden_activations[Layer])\n",
        "      del_z_w = hidden_activations[Layer - 1]\n",
        "      del_hbias[Layer] = del_cost*del_a_z\n",
        "      del_hweights[Layer - 1] = np.matmul(np.reshape(del_hbias[Layer],(self.hls , 1)) ,np.reshape(del_z_w,(1 , self.hls)))\n",
        "      del_cost = np.matmul(del_hbias[Layer] , self.h_weights[Layer - 1])\n",
        "\n",
        "    del_a_z = self.act.derivative_sigmoid(hidden_activations[0])\n",
        "    del_z_w = inp\n",
        "    del_hbias[0] = del_cost*del_a_z\n",
        "    del_h1weights = np.matmul(np.reshape(del_hbias[0],(self.hls , 1)) , np.reshape(del_z_w,(1 , self.ils)))\n",
        "\n",
        "    return del_h1weights , del_hweights , del_oweights , del_hbias , del_obias\n",
        "\n",
        "#-----------------------------------------------------------------------GRADIENT DESCEND-------------------------------------------------------------\n",
        "  def GCD(self):\n",
        "    fold=self.k\n",
        "    cost_array = np.zeros(self.epochs)\n",
        "    accuracy_array = np.zeros(self.epochs)\n",
        "    size = self.data.shape[0]\n",
        "    for epoch in range(self.epochs):\n",
        "      accuracy = 0\n",
        "      cost_function = 0\n",
        "      #k-FOLD CROSS VALIDATION\n",
        "      for s in range(fold):\n",
        "        train_x , train_y , test_x ,test_y = self.split(s,fold)\n",
        "        #TRAINING\n",
        "        for i in range(train_x.shape[0]):\n",
        "          del_h1weights , del_hweights , del_oweights , del_hbias , del_obias = self.backpropogation(train_x[i] , train_y[i])\n",
        "          self.h1_weights = self.h1_weights - (self.lr)*(self.lc)*del_h1weights\n",
        "          self.h_weights = self.h_weights - (self.lr)*(self.lc)*del_hweights\n",
        "          self.o_weights = self.o_weights - (self.lr)*(self.lc)*del_oweights\n",
        "          self.h_bias = self.h_bias - (self.lr)*(self.lc)*del_hbias\n",
        "          self.o_bias = self.o_bias - (self.lc)*(self.lc)*del_obias\n",
        "        \n",
        "        #TESTING\n",
        "        for i in range(test_x.shape[0]):\n",
        "          activations = self.FEEDFORWARD(test_x[i])\n",
        "          y_pred = np.argmax(activations) + 1\n",
        "          y = int(test_y[i])\n",
        "          accuracy += 1 if y==y_pred else 0\n",
        "          cost_function += self.cost.Cross_Entropy(activations , y)\n",
        "      print(\"Epoch: \",epoch+1,\"\\t\\tAccuracy: \",(accuracy/size)*100,\"%\\t\\tCost: \",cost_function/size)\n",
        "      accuracy_array[epoch] = accuracy/size\n",
        "      cost_array[epoch] = cost_function/size\n",
        "    self.plot(cost_array , accuracy_array)\n",
        "    self.save(self.h1_weights , self.h_weights , self.o_weights , self.h_bias , self.o_bias,\"mnist_weights\")    \n",
        "#----------------------------------------------------------------------STOCHASTIC GRADIENT DESCEND--------------------------------------------------------\n",
        "  def SGCD(self , training_batch_size , testing_batch_size):\n",
        "    accuracy_array = np.zeros(self.epochs)\n",
        "    cost_array = np.zeros(self.epochs)\n",
        "    rows , cols = self.data.shape\n",
        "    data_x = self.data.values[:,0:cols-1]\n",
        "    data_y = self.data.values[:,cols-1].astype(np.int) + 1\n",
        "    size = testing_batch_size\n",
        "    for epoch in range(self.epochs):\n",
        "      #TRAINING\n",
        "      for X in range(training_batch_size):\n",
        "        index = random.randint(0 , rows-1)\n",
        "        del_h1weights , del_hweights , del_oweights , del_hbias , del_obias = self.backpropogation(data_x[index] , data_y[index])\n",
        "        self.h1_weights = self.h1_weights - (self.lr)*(self.lc)*del_h1weights\n",
        "        self.h_weights = self.h_weights - (self.lr)*(self.lc)*del_hweights\n",
        "        self.o_weights = self.o_weights - (self.lr)*(self.lc)*del_oweights\n",
        "        self.h_bias = self.h_bias - (self.lr)*(self.lc)*del_hbias\n",
        "        self.o_bias = self.o_bias - (self.lr)*(self.lc)*del_obias\n",
        "      #TESTING\n",
        "      accuracy = 0\n",
        "      cost_function = 0\n",
        "      for X in range(testing_batch_size):\n",
        "        index = random.randint(0 , rows-1)\n",
        "        activations = self.FEEDFORWARD(data_x[index])\n",
        "        y_pred = np.argmax(activations) + 1\n",
        "        accuracy += 1 if data_y[index]==y_pred else 0\n",
        "        cost_function += self.cost.Cross_Entropy(activations , data_y[index])\n",
        "      print(\"Epoch: \",epoch+1,\"\\t\\tAccuracy: \",(accuracy/size)*100,\"%\\t\\t\\t\\t\\tCost: \",cost_function/size)\n",
        "      accuracy_array[epoch] = accuracy/size\n",
        "      cost_array[epoch] = cost_function/size\n",
        "    self.plot(cost_array , accuracy_array)\n",
        "    self.save(self.h1_weights , self.h_weights , self.o_weights , self.h_bias , self.o_bias,\"mnist_weights\")    \n",
        "\n",
        "\n",
        "  #------------------------------------------------------------------------CLASSIFIER---------------------------------------------\n",
        "  def classifier(self , inp):\n",
        "    activations = self.FEEDFORWARD(inp)\n",
        "    y = np.argmax(activations)\n",
        "    return self.dir[y]"
      ],
      "execution_count": 0,
      "outputs": []
    },
    {
      "cell_type": "markdown",
      "metadata": {
        "id": "doZPSQ2qt_HG",
        "colab_type": "text"
      },
      "source": [
        "#Test Bench"
      ]
    },
    {
      "cell_type": "code",
      "metadata": {
        "id": "pfRlRoGcuCx2",
        "colab_type": "code",
        "colab": {}
      },
      "source": [
        "dir = [\"zero\" , \"one\" , \"two\" , \"three\" , \"four\" , \"five\" , \"six\" , \"seven\" , \"eight\" , \"nine\"]\n",
        "net = CNN(784 , 512 , 1 , 10 , mnist_data , dir , 10 , 0.0005 , 1 , 20)"
      ],
      "execution_count": 0,
      "outputs": []
    },
    {
      "cell_type": "code",
      "metadata": {
        "id": "SujTWRKHvZo1",
        "colab_type": "code",
        "outputId": "ce814a74-cf6c-4346-c357-321fc8919422",
        "colab": {
          "base_uri": "https://localhost:8080/",
          "height": 913
        }
      },
      "source": [
        "net.SGCD(10000 , 2000)"
      ],
      "execution_count": 0,
      "outputs": [
        {
          "output_type": "stream",
          "text": [
            "Epoch:  1 \t\tAccuracy:  51.4 %\t\t\t\t\tCost:  1.5347287315824967087\n",
            "Epoch:  2 \t\tAccuracy:  70.8 %\t\t\t\t\tCost:  1.0185323526209894894\n",
            "Epoch:  3 \t\tAccuracy:  80.2 %\t\t\t\t\tCost:  0.7495780624651206532\n",
            "Epoch:  4 \t\tAccuracy:  81.69999999999999 %\t\t\t\t\tCost:  0.67631794900461427377\n",
            "Epoch:  5 \t\tAccuracy:  83.1 %\t\t\t\t\tCost:  0.63478095352193492063\n",
            "Epoch:  6 \t\tAccuracy:  84.35000000000001 %\t\t\t\t\tCost:  0.5645607618232694336\n",
            "Epoch:  7 \t\tAccuracy:  85.35000000000001 %\t\t\t\t\tCost:  0.5302964655584029676\n",
            "Epoch:  8 \t\tAccuracy:  86.1 %\t\t\t\t\tCost:  0.5305399247018887956\n",
            "Epoch:  9 \t\tAccuracy:  86.15 %\t\t\t\t\tCost:  0.5192012993435922766\n",
            "Epoch:  10 \t\tAccuracy:  88.5 %\t\t\t\t\tCost:  0.45534327159399329665\n",
            "Epoch:  11 \t\tAccuracy:  88.35 %\t\t\t\t\tCost:  0.46056519690829842125\n",
            "Epoch:  12 \t\tAccuracy:  87.85 %\t\t\t\t\tCost:  0.4545235572354680504\n",
            "Epoch:  13 \t\tAccuracy:  87.85 %\t\t\t\t\tCost:  0.46299617862712225184\n",
            "Epoch:  14 \t\tAccuracy:  88.05 %\t\t\t\t\tCost:  0.467252645793057343\n",
            "Epoch:  15 \t\tAccuracy:  89.25 %\t\t\t\t\tCost:  0.39723058044421006543\n",
            "Epoch:  16 \t\tAccuracy:  89.45 %\t\t\t\t\tCost:  0.4019250041941833577\n",
            "Epoch:  17 \t\tAccuracy:  89.64999999999999 %\t\t\t\t\tCost:  0.39597908894904084942\n",
            "Epoch:  18 \t\tAccuracy:  90.55 %\t\t\t\t\tCost:  0.36920482780086587475\n",
            "Epoch:  19 \t\tAccuracy:  89.60000000000001 %\t\t\t\t\tCost:  0.38843473394666646156\n",
            "Epoch:  20 \t\tAccuracy:  89.9 %\t\t\t\t\tCost:  0.37169026927753695262\n"
          ],
          "name": "stdout"
        },
        {
          "output_type": "display_data",
          "data": {
            "image/png": "[encoded data removed]",
            "text/plain": [
              "<Figure size 432x288 with 1 Axes>"
            ]
          },
          "metadata": {
            "tags": [],
            "needs_background": "light"
          }
        },
        {
          "output_type": "display_data",
          "data": {
            "image/png": "[encoded data removed]",
            "text/plain": [
              "<Figure size 432x288 with 1 Axes>"
            ]
          },
          "metadata": {
            "tags": [],
            "needs_background": "light"
          }
        }
      ]
    },
    {
      "cell_type": "code",
      "metadata": {
        "id": "FKC98YL-H_pK",
        "colab_type": "code",
        "outputId": "c2496ce8-ece6-4086-9c03-a1b0eb5a7a9b",
        "colab": {
          "base_uri": "https://localhost:8080/",
          "height": 282
        }
      },
      "source": [
        "image = cv2.imread(\"/content/imag2.png\")\n",
        "grey_img = cv2.cvtColor(image, cv2.COLOR_BGR2GRAY)\n",
        "smooth_img = cv2.GaussianBlur(grey_img,(5,5),cv2.BORDER_DEFAULT)\n",
        "final_img=cv2.resize(smooth_img,(28,28))\n",
        "plt.imshow(final_img)\n",
        "plt.show()\n",
        "test=np.array(final_img).flatten()\n",
        "net.classifier(test)"
      ],
      "execution_count": 0,
      "outputs": [
        {
          "output_type": "display_data",
          "data": {
            "image/png": "[encoded data removed]",
            "text/plain": [
              "<Figure size 432x288 with 1 Axes>"
            ]
          },
          "metadata": {
            "tags": [],
            "needs_background": "light"
          }
        },
        {
          "output_type": "execute_result",
          "data": {
            "text/plain": [
              "'six'"
            ]
          },
          "metadata": {
            "tags": []
          },
          "execution_count": 129
        }
      ]
    }
  ]
}